{
  "nbformat": 4,
  "nbformat_minor": 0,
  "metadata": {
    "colab": {
      "provenance": [],
      "authorship_tag": "ABX9TyO6w4ddofXpkeNwD1SZ7n0R",
      "include_colab_link": true
    },
    "kernelspec": {
      "name": "python3",
      "display_name": "Python 3"
    },
    "language_info": {
      "name": "python"
    }
  },
  "cells": [
    {
      "cell_type": "markdown",
      "metadata": {
        "id": "view-in-github",
        "colab_type": "text"
      },
      "source": [
        "<a href=\"https://colab.research.google.com/github/vikaskapur/unsupervised-passage-reranking/blob/my-test/Zeroshot_Reranking.ipynb\" target=\"_parent\"><img src=\"https://colab.research.google.com/assets/colab-badge.svg\" alt=\"Open In Colab\"/></a>"
      ]
    },
    {
      "cell_type": "code",
      "execution_count": 1,
      "metadata": {
        "colab": {
          "base_uri": "https://localhost:8080/"
        },
        "id": "t_36cRLui0BZ",
        "outputId": "b921f9ed-2f71-42b4-d73f-485022efc3f5"
      },
      "outputs": [
        {
          "output_type": "stream",
          "name": "stdout",
          "text": [
            "Cloning into 'unsupervised-passage-reranking'...\n",
            "remote: Enumerating objects: 43, done.\u001b[K\n",
            "remote: Counting objects: 100% (43/43), done.\u001b[K\n",
            "remote: Compressing objects: 100% (30/30), done.\u001b[K\n",
            "remote: Total 43 (delta 13), reused 38 (delta 8), pack-reused 0\u001b[K\n",
            "Unpacking objects: 100% (43/43), done.\n"
          ]
        }
      ],
      "source": [
        "! git clone https://github.com/vikaskapur/unsupervised-passage-reranking"
      ]
    },
    {
      "cell_type": "code",
      "source": [
        "%cd unsupervised-passage-reranking"
      ],
      "metadata": {
        "colab": {
          "base_uri": "https://localhost:8080/"
        },
        "id": "TxDctaR4jfG0",
        "outputId": "4cd2b6d0-e18b-4cd2-e1f1-21fcddad4ce6"
      },
      "execution_count": 7,
      "outputs": [
        {
          "output_type": "stream",
          "name": "stdout",
          "text": [
            "/content/unsupervised-passage-reranking\n"
          ]
        }
      ]
    },
    {
      "cell_type": "code",
      "source": [
        "!python utils/download_data.py --resource \"data.wikipedia-split.psgs_w100\""
      ],
      "metadata": {
        "colab": {
          "base_uri": "https://localhost:8080/"
        },
        "id": "L8T2rZfDjsWH",
        "outputId": "13135a14-f93f-49e2-f0f6-e61147807952"
      },
      "execution_count": 12,
      "outputs": [
        {
          "output_type": "stream",
          "name": "stdout",
          "text": [
            "Requested resource from %s https://www.dropbox.com/s/bezryc9win2bha1/psgs_w100.tar.gz\n",
            "Download root_dir %s ./\n",
            "File to be downloaded as %s /content/unsupervised-passage-reranking/downloads/data/wikipedia-split/psgs_w100.tsv\n",
            "\n",
            "Downloaded to %s /content/unsupervised-passage-reranking/downloads/data/wikipedia-split/psgs_w100.tar.gz\n",
            "Uncompressing %s /content/unsupervised-passage-reranking/downloads/data/wikipedia-split/psgs_w100.tar.gz\n",
            " Saved to %s ./downloads/data/wikipedia-split\n"
          ]
        }
      ]
    },
    {
      "cell_type": "code",
      "source": [
        "!python utils/download_data.py --resource \"data.retriever-outputs.bm25.nq-test\" "
      ],
      "metadata": {
        "colab": {
          "base_uri": "https://localhost:8080/"
        },
        "id": "Fv0n9rlrj2L_",
        "outputId": "31b81664-b86a-4c06-dcf6-aa7f68864cae"
      },
      "execution_count": 13,
      "outputs": [
        {
          "output_type": "stream",
          "name": "stdout",
          "text": [
            "Requested resource from %s https://www.dropbox.com/s/ml2lnt34ktjgft6/nq-test.tar.gz\n",
            "Download root_dir %s ./\n",
            "File to be downloaded as %s /content/unsupervised-passage-reranking/downloads/data/retriever-outputs/bm25/nq-test.json\n",
            "\n",
            "Downloaded to %s /content/unsupervised-passage-reranking/downloads/data/retriever-outputs/bm25/nq-test.tar.gz\n",
            "Uncompressing %s /content/unsupervised-passage-reranking/downloads/data/retriever-outputs/bm25/nq-test.tar.gz\n",
            " Saved to %s ./downloads/data/retriever-outputs/bm25\n"
          ]
        }
      ]
    },
    {
      "cell_type": "code",
      "source": [
        "from transformers import T5Tokenizer, T5ForConditionalGeneration"
      ],
      "metadata": {
        "id": "jF8KnqxxrFz8"
      },
      "execution_count": null,
      "outputs": []
    },
    {
      "cell_type": "code",
      "source": [
        "hf_model_name = \"bigscience/T0_3B\""
      ],
      "metadata": {
        "id": "Pgrfmw2eqFsb"
      },
      "execution_count": null,
      "outputs": []
    },
    {
      "cell_type": "code",
      "source": [
        "tokenizer = T5Tokenizer.from_pretrained(hf_model_name)\n",
        "model = T5ForConditionalGeneration.from_pretrained(hf_model_name)"
      ],
      "metadata": {
        "id": "nxKSbSWdmJY9"
      },
      "execution_count": null,
      "outputs": []
    }
  ]
}